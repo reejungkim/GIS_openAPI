{
 "cells": [
  {
   "cell_type": "code",
   "execution_count": 1,
   "id": "ba12af30",
   "metadata": {},
   "outputs": [],
   "source": [
    "filename = 'GOOGLE_API_KEY.txt'\n",
    "def get_file_contents(filename):\n",
    "    \"\"\" Given a filename,\n",
    "        return the contents of that file\n",
    "    \"\"\"\n",
    "    try:\n",
    "        with open(filename, 'r') as f:\n",
    "            # It's assumed our file contains a single line,\n",
    "            # with our API key\n",
    "            return f.read().strip()\n",
    "    except FileNotFoundError:\n",
    "        print(\"'%s' file not found\" % filename)\n",
    " "
   ]
  },
  {
   "cell_type": "code",
   "execution_count": 2,
   "id": "d8b38cee",
   "metadata": {},
   "outputs": [],
   "source": [
    "       \n",
    "GOOGLE_API_KEY = get_file_contents(filename)\n",
    "#print(\"Our API key is: %s\" % (api_key))"
   ]
  },
  {
   "cell_type": "code",
   "execution_count": 3,
   "id": "79307a72",
   "metadata": {},
   "outputs": [
    {
     "name": "stdout",
     "output_type": "stream",
     "text": [
      "37.459244\n",
      "126.7522197\n"
     ]
    }
   ],
   "source": [
    "import googlemaps\n",
    "\n",
    "gmaps = googlemaps.Client(GOOGLE_API_KEY)\n",
    "geocode_result = gmaps.geocode(('인천대공원'), language='ko') # 한국어 설정으로 인천대공원의 결과값을 받아온다.\n",
    "\n",
    "latitude  = geocode_result[0][\"geometry\"][\"location\"][\"lat\"] # 리스트에서 위도 추출\n",
    "longitude = geocode_result[0][\"geometry\"][\"location\"][\"lng\"] # 리스트에서 경도 추출\n",
    "\n",
    "print(latitude)\n",
    "print(longitude)"
   ]
  },
  {
   "cell_type": "code",
   "execution_count": 24,
   "id": "d2332698",
   "metadata": {},
   "outputs": [
    {
     "data": {
      "text/plain": [
       "'대한민국 제주특별자치도 제주시'"
      ]
     },
     "execution_count": 24,
     "metadata": {},
     "output_type": "execute_result"
    }
   ],
   "source": [
    "gmaps.geocode(\"jeju\", language='ko')[0]['formatted_address']"
   ]
  },
  {
   "cell_type": "code",
   "execution_count": 17,
   "id": "15f2324a",
   "metadata": {},
   "outputs": [
    {
     "data": {
      "text/plain": [
       "[{'address_components': [{'long_name': '청운동',\n",
       "    'short_name': '청운동',\n",
       "    'types': ['political', 'sublocality', 'sublocality_level_2']},\n",
       "   {'long_name': '종로구',\n",
       "    'short_name': '종로구',\n",
       "    'types': ['political', 'sublocality', 'sublocality_level_1']},\n",
       "   {'long_name': '서울특별시',\n",
       "    'short_name': '서울특별시',\n",
       "    'types': ['administrative_area_level_1', 'political']},\n",
       "   {'long_name': '대한민국',\n",
       "    'short_name': 'KR',\n",
       "    'types': ['country', 'political']},\n",
       "   {'long_name': '110-030',\n",
       "    'short_name': '110-030',\n",
       "    'types': ['postal_code']}],\n",
       "  'formatted_address': '대한민국 서울특별시 종로구 청운동',\n",
       "  'geometry': {'bounds': {'northeast': {'lat': 37.59438859999999,\n",
       "     'lng': 126.9759306},\n",
       "    'southwest': {'lat': 37.5761469, 'lng': 126.9629054}},\n",
       "   'location': {'lat': 37.58936620000001, 'lng': 126.9697192},\n",
       "   'location_type': 'APPROXIMATE',\n",
       "   'viewport': {'northeast': {'lat': 37.59438859999999, 'lng': 126.9759306},\n",
       "    'southwest': {'lat': 37.5761469, 'lng': 126.9629054}}},\n",
       "  'place_id': 'ChIJLz_gnbCifDURyzlNxxyoXYw',\n",
       "  'types': ['political', 'sublocality', 'sublocality_level_2']}]"
      ]
     },
     "execution_count": 17,
     "metadata": {},
     "output_type": "execute_result"
    }
   ],
   "source": [
    "gmaps.geocode(\"서울 종로구 청운동\", language='ko')#[0]['geometry'][\"location\"][\"lat\"]\n"
   ]
  },
  {
   "cell_type": "code",
   "execution_count": 8,
   "id": "627c9b0e",
   "metadata": {},
   "outputs": [
    {
     "name": "stdout",
     "output_type": "stream",
     "text": [
      "{\n",
      "  \"location\": {\n",
      "    \"lat\": 37.4973375,\n",
      "    \"lng\": 126.9648429\n",
      "  },\n",
      "  \"accuracy\": 2982.5746570397478\n",
      "}\n",
      "\n",
      "[{'address_components': [{'long_name': '３０１−１', 'short_name': '３０１−１', 'types': ['premise']}, {'long_name': '동작동', 'short_name': '동작동', 'types': ['political', 'sublocality', 'sublocality_level_2']}, {'long_name': '동작구', 'short_name': '동작구', 'types': ['political', 'sublocality', 'sublocality_level_1']}, {'long_name': '서울특별시', 'short_name': '서울특별시', 'types': ['administrative_area_level_1', 'political']}, {'long_name': '대한민국', 'short_name': 'KR', 'types': ['country', 'political']}, {'long_name': '156-080', 'short_name': '156-080', 'types': ['postal_code']}], 'formatted_address': '대한민국 서울특별시 동작구 동작동 301-1', 'geometry': {'location': {'lat': 37.4980162, 'lng': 126.9651212}, 'location_type': 'ROOFTOP', 'viewport': {'northeast': {'lat': 37.4993651802915, 'lng': 126.9664701802915}, 'southwest': {'lat': 37.4966672197085, 'lng': 126.9637722197085}}}, 'place_id': 'ChIJJ2s5TMWhfDUR0WvbTYUtpmA', 'plus_code': {'compound_code': 'FXX8+62 대한민국 서울특별시', 'global_code': '8Q98FXX8+62'}, 'types': ['street_address']}, {'address_components': [{'long_name': '산44-1', 'short_name': '산44-1', 'types': ['premise']}, {'long_name': '동작동', 'short_name': '동작동', 'types': ['political', 'sublocality', 'sublocality_level_2']}, {'long_name': '동작구', 'short_name': '동작구', 'types': ['political', 'sublocality', 'sublocality_level_1']}, {'long_name': '서울특별시', 'short_name': '서울특별시', 'types': ['administrative_area_level_1', 'political']}, {'long_name': '대한민국', 'short_name': 'KR', 'types': ['country', 'political']}, {'long_name': '156-080', 'short_name': '156-080', 'types': ['postal_code']}], 'formatted_address': '대한민국 서울특별시 동작구 동작동 산44-1', 'geometry': {'location': {'lat': 37.4986734, 'lng': 126.9647194}, 'location_type': 'ROOFTOP', 'viewport': {'northeast': {'lat': 37.5000223802915, 'lng': 126.9660683802915}, 'southwest': {'lat': 37.49732441970851, 'lng': 126.9633704197085}}}, 'place_id': 'ChIJOyL9ytqhfDUR7tQw_L3NhS0', 'plus_code': {'compound_code': 'FXX7+FV 대한민국 서울특별시', 'global_code': '8Q98FXX7+FV'}, 'types': ['establishment', 'place_of_worship', 'point_of_interest']}, {'address_components': [{'long_name': 'FXW7+WW', 'short_name': 'FXW7+WW', 'types': ['plus_code']}, {'long_name': '서울특별시', 'short_name': '서울특별시', 'types': ['administrative_area_level_1', 'political']}, {'long_name': '대한민국', 'short_name': 'KR', 'types': ['country', 'political']}], 'formatted_address': 'FXW7+WW 대한민국 서울특별시', 'geometry': {'bounds': {'northeast': {'lat': 37.497375, 'lng': 126.964875}, 'southwest': {'lat': 37.49725, 'lng': 126.96475}}, 'location': {'lat': 37.497338, 'lng': 126.964843}, 'location_type': 'GEOMETRIC_CENTER', 'viewport': {'northeast': {'lat': 37.4986614802915, 'lng': 126.9661614802915}, 'southwest': {'lat': 37.4959635197085, 'lng': 126.9634635197085}}}, 'place_id': 'GhIJboeGxai_QkARkLHa_L-9X0A', 'plus_code': {'compound_code': 'FXW7+WW 대한민국 서울특별시', 'global_code': '8Q98FXW7+WW'}, 'types': ['plus_code']}, {'address_components': [{'long_name': '156-080', 'short_name': '156-080', 'types': ['postal_code']}, {'long_name': '동작동', 'short_name': '동작동', 'types': ['political', 'sublocality', 'sublocality_level_2']}, {'long_name': '동작구', 'short_name': '동작구', 'types': ['political', 'sublocality', 'sublocality_level_1']}, {'long_name': '서울특별시', 'short_name': '서울특별시', 'types': ['administrative_area_level_1', 'political']}, {'long_name': '대한민국', 'short_name': 'KR', 'types': ['country', 'political']}], 'formatted_address': '대한민국 서울특별시 동작구 동작동', 'geometry': {'bounds': {'northeast': {'lat': 37.5075904, 'lng': 126.985609}, 'southwest': {'lat': 37.4884632, 'lng': 126.9619355}}, 'location': {'lat': 37.4993889, 'lng': 126.9782842}, 'location_type': 'APPROXIMATE', 'viewport': {'northeast': {'lat': 37.5075904, 'lng': 126.985609}, 'southwest': {'lat': 37.4884632, 'lng': 126.9619355}}}, 'place_id': 'ChIJ_QtlwsChfDURQjNpUGNRjy8', 'types': ['postal_code']}, {'address_components': [{'long_name': '동작동', 'short_name': '동작동', 'types': ['political', 'sublocality', 'sublocality_level_2']}, {'long_name': '동작구', 'short_name': '동작구', 'types': ['political', 'sublocality', 'sublocality_level_1']}, {'long_name': '서울특별시', 'short_name': '서울특별시', 'types': ['administrative_area_level_1', 'political']}, {'long_name': '대한민국', 'short_name': 'KR', 'types': ['country', 'political']}, {'long_name': '156-080', 'short_name': '156-080', 'types': ['postal_code']}], 'formatted_address': '대한민국 서울특별시 동작구 동작동', 'geometry': {'bounds': {'northeast': {'lat': 37.5075904, 'lng': 126.985609}, 'southwest': {'lat': 37.4884632, 'lng': 126.9619355}}, 'location': {'lat': 37.4998616, 'lng': 126.9742991}, 'location_type': 'APPROXIMATE', 'viewport': {'northeast': {'lat': 37.5075904, 'lng': 126.985609}, 'southwest': {'lat': 37.4884632, 'lng': 126.9619355}}}, 'place_id': 'ChIJ_QtlwsChfDURDiIs1CLa3ls', 'types': ['political', 'sublocality', 'sublocality_level_2']}, {'address_components': [{'long_name': '현충로', 'short_name': '현충로', 'types': ['political', 'sublocality', 'sublocality_level_4']}, {'long_name': '동작구', 'short_name': '동작구', 'types': ['political', 'sublocality', 'sublocality_level_1']}, {'long_name': '서울특별시', 'short_name': '서울특별시', 'types': ['administrative_area_level_1', 'political']}, {'long_name': '대한민국', 'short_name': 'KR', 'types': ['country', 'political']}], 'formatted_address': '대한민국 서울특별시 동작구 현충로', 'geometry': {'bounds': {'northeast': {'lat': 37.513178, 'lng': 126.9810436}, 'southwest': {'lat': 37.4950428, 'lng': 126.9563641}}, 'location': {'lat': 37.5011692, 'lng': 126.9691815}, 'location_type': 'APPROXIMATE', 'viewport': {'northeast': {'lat': 37.513178, 'lng': 126.9810436}, 'southwest': {'lat': 37.4950428, 'lng': 126.9563641}}}, 'place_id': 'ChIJ1_xeasKhfDURVOode5_yiPo', 'types': ['political', 'sublocality', 'sublocality_level_4']}, {'address_components': [{'long_name': '사당2동', 'short_name': '사당2동', 'types': ['political', 'sublocality', 'sublocality_level_2']}, {'long_name': '동작구', 'short_name': '동작구', 'types': ['political', 'sublocality', 'sublocality_level_1']}, {'long_name': '서울특별시', 'short_name': '서울특별시', 'types': ['administrative_area_level_1', 'political']}, {'long_name': '대한민국', 'short_name': 'KR', 'types': ['country', 'political']}, {'long_name': '156-092', 'short_name': '156-092', 'types': ['postal_code']}], 'formatted_address': '대한민국 서울특별시 동작구 사당2동', 'geometry': {'bounds': {'northeast': {'lat': 37.5075904, 'lng': 126.985609}, 'southwest': {'lat': 37.4843507, 'lng': 126.9619355}}, 'location': {'lat': 37.4886556, 'lng': 126.9792213}, 'location_type': 'APPROXIMATE', 'viewport': {'northeast': {'lat': 37.5075904, 'lng': 126.985609}, 'southwest': {'lat': 37.4843507, 'lng': 126.9619355}}}, 'place_id': 'ChIJwf1RZbahfDURp5wmv3PYTHI', 'types': ['political', 'sublocality', 'sublocality_level_2']}, {'address_components': [{'long_name': '동작구', 'short_name': '동작구', 'types': ['political', 'sublocality', 'sublocality_level_1']}, {'long_name': '서울특별시', 'short_name': '서울특별시', 'types': ['administrative_area_level_1', 'political']}, {'long_name': '대한민국', 'short_name': 'KR', 'types': ['country', 'political']}], 'formatted_address': '대한민국 서울특별시 동작구', 'geometry': {'bounds': {'northeast': {'lat': 37.5188231, 'lng': 126.985609}, 'southwest': {'lat': 37.4754009, 'lng': 126.9031469}}, 'location': {'lat': 37.512402, 'lng': 126.9392525}, 'location_type': 'APPROXIMATE', 'viewport': {'northeast': {'lat': 37.5188231, 'lng': 126.985609}, 'southwest': {'lat': 37.4754009, 'lng': 126.9031469}}}, 'place_id': 'ChIJgYYqF3iffDURmGQzSoStNBU', 'types': ['political', 'sublocality', 'sublocality_level_1']}, {'address_components': [{'long_name': '서울특별시', 'short_name': '서울특별시', 'types': ['administrative_area_level_1', 'political']}, {'long_name': '대한민국', 'short_name': 'KR', 'types': ['country', 'political']}], 'formatted_address': '대한민국 서울특별시', 'geometry': {'bounds': {'northeast': {'lat': 37.7017495, 'lng': 127.1835899}, 'southwest': {'lat': 37.4259627, 'lng': 126.7645827}}, 'location': {'lat': 37.566535, 'lng': 126.9779692}, 'location_type': 'APPROXIMATE', 'viewport': {'northeast': {'lat': 37.7017495, 'lng': 127.1835899}, 'southwest': {'lat': 37.4259627, 'lng': 126.7645827}}}, 'place_id': 'ChIJzzlcLQGifDURm_JbQKHsEX4', 'types': ['administrative_area_level_1', 'political']}, {'address_components': [{'long_name': '서울특별시', 'short_name': '서울특별시', 'types': ['locality', 'political']}, {'long_name': '서울특별시', 'short_name': '서울특별시', 'types': ['administrative_area_level_1', 'political']}, {'long_name': '대한민국', 'short_name': 'KR', 'types': ['country', 'political']}], 'formatted_address': '대한민국 서울특별시', 'geometry': {'bounds': {'northeast': {'lat': 37.7017495, 'lng': 127.1835899}, 'southwest': {'lat': 37.4259627, 'lng': 126.7645827}}, 'location': {'lat': 37.566535, 'lng': 126.9779692}, 'location_type': 'APPROXIMATE', 'viewport': {'northeast': {'lat': 37.7017495, 'lng': 127.1835899}, 'southwest': {'lat': 37.4259627, 'lng': 126.7645827}}}, 'place_id': 'ChIJzWXFYYuifDUR64Pq5LTtioU', 'types': ['locality', 'political']}, {'address_components': [{'long_name': '대한민국', 'short_name': 'KR', 'types': ['country', 'political']}], 'formatted_address': '대한민국', 'geometry': {'bounds': {'northeast': {'lat': 38.63400000000001, 'lng': 131.1603}, 'southwest': {'lat': 33.0041, 'lng': 124.5863}}, 'location': {'lat': 35.907757, 'lng': 127.766922}, 'location_type': 'APPROXIMATE', 'viewport': {'northeast': {'lat': 38.63400000000001, 'lng': 131.1603}, 'southwest': {'lat': 33.0041, 'lng': 124.5863}}}, 'place_id': 'ChIJm7oRy-tVZDURS9uIugCbJJE', 'types': ['country', 'political']}]\n"
     ]
    }
   ],
   "source": [
    "import requests\n",
    "import googlemaps\n",
    "import json\n",
    "\n",
    "\n",
    "url = f'https://www.googleapis.com/geolocation/v1/geolocate?key={GOOGLE_API_KEY}'\n",
    "data = {\n",
    "    'considerIp': True, # 현 IP로 데이터 추출\n",
    "}\n",
    "\n",
    "result = requests.post(url, data) # 해당 API에 요청을 보내며 데이터를 추출한다.\n",
    "\n",
    "print(result.text)\n",
    "result2 = json.loads(result.text)\n",
    "\n",
    "lat = result2[\"location\"][\"lat\"] # 현재 위치의 위도 추출\n",
    "lng = result2[\"location\"][\"lng\"] # 현재 위치의 경도 추출\n",
    "\n",
    "gmaps = googlemaps.Client(GOOGLE_API_KEY)\n",
    "reverse_geocode_result = gmaps.reverse_geocode((lat, lng),language='ko')\n",
    "# 좌표값을 이용해 목적지를 알아내는 코드\n",
    "\n",
    "print(reverse_geocode_result)"
   ]
  },
  {
   "cell_type": "code",
   "execution_count": null,
   "id": "26d65412",
   "metadata": {},
   "outputs": [],
   "source": []
  },
  {
   "cell_type": "code",
   "execution_count": null,
   "id": "97051e51",
   "metadata": {},
   "outputs": [],
   "source": []
  },
  {
   "cell_type": "code",
   "execution_count": null,
   "id": "a1338305",
   "metadata": {},
   "outputs": [],
   "source": []
  }
 ],
 "metadata": {
  "kernelspec": {
   "display_name": "Python 3 (ipykernel)",
   "language": "python",
   "name": "python3"
  },
  "language_info": {
   "codemirror_mode": {
    "name": "ipython",
    "version": 3
   },
   "file_extension": ".py",
   "mimetype": "text/x-python",
   "name": "python",
   "nbconvert_exporter": "python",
   "pygments_lexer": "ipython3",
   "version": "3.7.13"
  }
 },
 "nbformat": 4,
 "nbformat_minor": 5
}

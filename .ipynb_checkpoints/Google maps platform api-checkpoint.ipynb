{
 "cells": [
  {
   "cell_type": "code",
   "execution_count": 6,
   "id": "a1e503c3",
   "metadata": {},
   "outputs": [],
   "source": [
    "filename = 'GOOGLE_API_KEY.txt'\n",
    "def get_file_contents(filename):\n",
    "    \"\"\" Given a filename,\n",
    "        return the contents of that file\n",
    "    \"\"\"\n",
    "    try:\n",
    "        with open(filename, 'r') as f:\n",
    "            # It's assumed our file contains a single line,\n",
    "            # with our API key\n",
    "            return f.read().strip()\n",
    "    except FileNotFoundError:\n",
    "        print(\"'%s' file not found\" % filename)\n",
    "        \n",
    "api_key = get_file_contents(filename)\n",
    "#print(\"Our API key is: %s\" % (api_key))"
   ]
  },
  {
   "cell_type": "code",
   "execution_count": 7,
   "id": "489b7c0a",
   "metadata": {},
   "outputs": [
    {
     "name": "stdout",
     "output_type": "stream",
     "text": [
      "37.456711\n",
      "126.757911\n"
     ]
    }
   ],
   "source": [
    "import googlemaps\n",
    "\n",
    "gmaps = googlemaps.Client(GOOGLE_API_KEY)\n",
    "geocode_result = gmaps.geocode(('인천대공원'), language='ko') # 한국어 설정으로 인천대공원의 결과값을 받아온다.\n",
    "\n",
    "latitude  = geocode_result[0][\"geometry\"][\"location\"][\"lat\"] # 리스트에서 위도 추출\n",
    "longitude = geocode_result[0][\"geometry\"][\"location\"][\"lng\"] # 리스트에서 경도 추출\n",
    "\n",
    "print(latitude)\n",
    "print(longitude)"
   ]
  },
  {
   "cell_type": "code",
   "execution_count": 8,
   "id": "f1aa5f59",
   "metadata": {},
   "outputs": [
    {
     "data": {
      "text/plain": [
       "[{'address_components': [{'long_name': '인천대공원',\n",
       "    'short_name': '인천대공원',\n",
       "    'types': ['establishment',\n",
       "     'park',\n",
       "     'point_of_interest',\n",
       "     'tourist_attraction']},\n",
       "   {'long_name': '산180', 'short_name': '산180', 'types': ['street_number']},\n",
       "   {'long_name': '장수동',\n",
       "    'short_name': '장수동',\n",
       "    'types': ['political', 'sublocality', 'sublocality_level_2']},\n",
       "   {'long_name': '남동구',\n",
       "    'short_name': '남동구',\n",
       "    'types': ['political', 'sublocality', 'sublocality_level_1']},\n",
       "   {'long_name': '인천광역시',\n",
       "    'short_name': '인천광역시',\n",
       "    'types': ['administrative_area_level_1', 'political']},\n",
       "   {'long_name': '대한민국',\n",
       "    'short_name': 'KR',\n",
       "    'types': ['country', 'political']},\n",
       "   {'long_name': '405-250',\n",
       "    'short_name': '405-250',\n",
       "    'types': ['postal_code']}],\n",
       "  'formatted_address': '대한민국 인천광역시 남동구 장수동 산180 인천대공원',\n",
       "  'geometry': {'location': {'lat': 37.456711, 'lng': 126.757911},\n",
       "   'location_type': 'ROOFTOP',\n",
       "   'viewport': {'northeast': {'lat': 37.4580599802915,\n",
       "     'lng': 126.7592599802915},\n",
       "    'southwest': {'lat': 37.4553620197085, 'lng': 126.7565620197085}}},\n",
       "  'partial_match': True,\n",
       "  'place_id': 'ChIJD3vd1Jh8ezURbh0AuKzX0Ig',\n",
       "  'plus_code': {'compound_code': 'FQ45+M5 대한민국 인천광역시 남동구',\n",
       "   'global_code': '8Q98FQ45+M5'},\n",
       "  'types': ['establishment',\n",
       "   'park',\n",
       "   'point_of_interest',\n",
       "   'tourist_attraction']}]"
      ]
     },
     "execution_count": 8,
     "metadata": {},
     "output_type": "execute_result"
    }
   ],
   "source": [
    "geocode_result"
   ]
  },
  {
   "cell_type": "code",
   "execution_count": null,
   "id": "5ed06d94",
   "metadata": {},
   "outputs": [],
   "source": []
  }
 ],
 "metadata": {
  "kernelspec": {
   "display_name": "Python 3 (ipykernel)",
   "language": "python",
   "name": "python3"
  },
  "language_info": {
   "codemirror_mode": {
    "name": "ipython",
    "version": 3
   },
   "file_extension": ".py",
   "mimetype": "text/x-python",
   "name": "python",
   "nbconvert_exporter": "python",
   "pygments_lexer": "ipython3",
   "version": "3.7.11"
  }
 },
 "nbformat": 4,
 "nbformat_minor": 5
}
